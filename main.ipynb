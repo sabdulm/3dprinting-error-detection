{
 "cells": [
  {
   "cell_type": "code",
   "execution_count": 1,
   "metadata": {},
   "outputs": [],
   "source": [
    "import csv\n",
    "import os\n",
    "import cv2\n",
    "from PIL import Image\n",
    "import pandas as pd\n",
    "from tqdm import tqdm\n",
    "import numpy as np\n",
    "import torch\n",
    "from convnet import ConvNet\n",
    "from sklearn.metrics import classification_report\n",
    "\n",
    "from lightning_model import LightningModel\n",
    "\n",
    "\n",
    "# np.random.seed(42)"
   ]
  },
  {
   "cell_type": "code",
   "execution_count": 2,
   "metadata": {},
   "outputs": [],
   "source": [
    "ROOT_DATA_PATH = '/s/babbage/e/nobackup/nkrishna/m3x/others/data/'\n",
    "train_set = ROOT_DATA_PATH + 'train.csv'\n",
    "test_set = ROOT_DATA_PATH + 'test.csv'\n",
    "images = ROOT_DATA_PATH + 'images/'"
   ]
  },
  {
   "cell_type": "code",
   "execution_count": null,
   "metadata": {},
   "outputs": [],
   "source": []
  },
  {
   "cell_type": "code",
   "execution_count": 3,
   "metadata": {},
   "outputs": [],
   "source": [
    "train_labels = pd.read_csv(train_set)\n",
    "test_labels = pd.read_csv(test_set)\n"
   ]
  },
  {
   "cell_type": "code",
   "execution_count": 4,
   "metadata": {},
   "outputs": [
    {
     "data": {
      "text/plain": [
       "1678816535    4310\n",
       "1678736713    4146\n",
       "1678761262    4085\n",
       "1678766920    3824\n",
       "1678739903    3609\n",
       "1678344738    3371\n",
       "1678594405    3080\n",
       "1678337873    2937\n",
       "1679267208    2856\n",
       "1678589738    2775\n",
       "1678819096    2696\n",
       "1679265796    2471\n",
       "1678341667    2416\n",
       "1679270824    2374\n",
       "1679011935    2189\n",
       "1678445757    2142\n",
       "1678454755    2060\n",
       "1679008414    1939\n",
       "1678414274    1860\n",
       "1679009928    1702\n",
       "1678333984    1696\n",
       "1678450861    1681\n",
       "1678580155    1572\n",
       "1678415191    1458\n",
       "1679221334    1443\n",
       "1678591103    1333\n",
       "1679007451    1122\n",
       "1678413653    1083\n",
       "1678593348    1025\n",
       "1678835470     957\n",
       "1678832038     857\n",
       "1672777638     829\n",
       "1678834100     803\n",
       "1678419624     679\n",
       "1678453862     659\n",
       "1672868532     593\n",
       "1672858778     593\n",
       "1672773342     593\n",
       "1672774625     574\n",
       "1672794804     572\n",
       "1672781765     492\n",
       "1672793440     465\n",
       "1672780647     440\n",
       "1672857603     389\n",
       "1678834870     358\n",
       "1672775511     342\n",
       "1672792990     341\n",
       "1672779510     334\n",
       "1672767789     308\n",
       "1672709609     307\n",
       "1672782493     213\n",
       "1672794032     107\n",
       "Name: print_id, dtype: int64"
      ]
     },
     "execution_count": 4,
     "metadata": {},
     "output_type": "execute_result"
    }
   ],
   "source": []
  },
  {
   "cell_type": "code",
   "execution_count": 9,
   "metadata": {},
   "outputs": [
    {
     "data": {
      "text/plain": [
       "1679222113    3476\n",
       "1678744931    2402\n",
       "1678764144    1953\n",
       "1678452362    1445\n",
       "1678343246    1058\n",
       "1673041994     950\n",
       "1673034918     946\n",
       "1678578332     869\n",
       "1673046546     792\n",
       "1673047933     792\n",
       "1679011090     767\n",
       "1673031848     716\n",
       "1673041144     716\n",
       "1672776024     633\n",
       "1672795514     621\n",
       "1678831256     508\n",
       "1674182025     404\n",
       "1674184477     404\n",
       "1674179039     391\n",
       "1673038169     322\n",
       "1674183481     312\n",
       "1674187131     312\n",
       "1674180283     302\n",
       "1673032842     302\n",
       "1673047525     299\n",
       "1673034242     291\n",
       "1673040671     291\n",
       "1673040188     287\n",
       "1673025450     286\n",
       "1674182884     251\n",
       "1674186076     235\n",
       "1674179701     220\n",
       "1673037665     210\n",
       "1673043651     208\n",
       "1673043367     191\n",
       "1673037348     191\n",
       "1673043066     180\n",
       "1673037071     180\n",
       "1674183959     133\n",
       "1674185002     132\n",
       "1674180772     117\n",
       "1674185462      66\n",
       "1674184223      62\n",
       "1674181142      56\n",
       "Name: print_id, dtype: int64"
      ]
     },
     "execution_count": 9,
     "metadata": {},
     "output_type": "execute_result"
    }
   ],
   "source": [
    "test_labels.print_id.value_counts()"
   ]
  },
  {
   "cell_type": "code",
   "execution_count": 16,
   "metadata": {},
   "outputs": [],
   "source": [
    "from transformers import AutoFeatureExtractor\n",
    "\n",
    "\n",
    "\n",
    "PRINT_IDS_FOR_VAL_ONLY = []\n",
    "PRINTERS_FOR_VAL_ONLY = []\n",
    "CUTOFF_PRINTS = 1500\n",
    "\n",
    "def get_images_and_targets(labels_df: pd.DataFrame, images_path: str, image_processor: AutoFeatureExtractor, test=False, train_fraction=0.7, val=False, lesser=True):\n",
    "    \n",
    "    \n",
    "    PRINTS_TO_USE = []\n",
    "    for i in labels_df['print_id'].unique():\n",
    "        count = len(labels_df[labels_df['print_id'] == i ])\n",
    "        if lesser and count <= CUTOFF_PRINTS:\n",
    "            PRINTS_TO_USE.append(i)\n",
    "        elif not lesser and count > CUTOFF_PRINTS:\n",
    "            PRINTS_TO_USE.append(i)\n",
    "\n",
    "    raw_labels = labels_df.values\n",
    "    print_filter = labels_df['print_id'].isin(PRINTS_TO_USE)\n",
    "    if test == False:\n",
    "        filter = (labels_df['printer_id'].isin(PRINTERS_FOR_VAL_ONLY) | labels_df['print_id'].isin(PRINT_IDS_FOR_VAL_ONLY))\n",
    "        \n",
    "\n",
    "        if val == True:\n",
    "            raw_labels = labels_df[filter].values\n",
    "        else:\n",
    "            raw_labels = labels_df[~filter & print_filter].values\n",
    "    else:\n",
    "        raw_labels = labels_df[print_filter].values\n",
    "\n",
    "    # if test==False:\n",
    "    #     fraction = int(len(raw_labels) - (len(raw_labels)*train_fraction))\n",
    "    #     r_indexes = np.arange(len(raw_labels))\n",
    "    #     np.random.shuffle(r_indexes)\n",
    "    #     raw_labels = raw_labels[r_indexes]\n",
    "    #     if val:\n",
    "    #         raw_labels = raw_labels[:fraction , :]\n",
    "    #     else:\n",
    "    #         raw_labels = raw_labels[fraction: , :]\n",
    "\n",
    "    \n",
    "    \n",
    "    X, Y = [], []\n",
    "    # print(len(raw_labels)//10000)\n",
    "    for i in tqdm(range(len(raw_labels))):\n",
    "        image = Image.open(images_path + raw_labels[i][0])\n",
    "        image = image_processor(image, return_tensors='pt')\n",
    "\n",
    "        X.append(image.pixel_values)\n",
    "        if test==False:\n",
    "            Y.append(raw_labels[i][3])\n",
    "        else:\n",
    "            Y.append(raw_labels[i][0])\n",
    "    # print(X)\n",
    "\n",
    "    X, Y = torch.vstack(X), torch.from_numpy(np.array(Y)).reshape(-1,1) if test == False else np.array(Y)\n",
    "    return X, Y"
   ]
  },
  {
   "cell_type": "code",
   "execution_count": 12,
   "metadata": {
    "scrolled": true
   },
   "outputs": [],
   "source": [
    "image_processor = AutoFeatureExtractor.from_pretrained('microsoft/resnet-50')\n"
   ]
  },
  {
   "cell_type": "code",
   "execution_count": 18,
   "metadata": {},
   "outputs": [
    {
     "name": "stderr",
     "output_type": "stream",
     "text": [
      "  2%|▏         | 140/7831 [00:03<03:25, 37.41it/s]\n"
     ]
    },
    {
     "ename": "KeyboardInterrupt",
     "evalue": "",
     "output_type": "error",
     "traceback": [
      "\u001b[0;31m---------------------------------------------------------------------------\u001b[0m",
      "\u001b[0;31mKeyboardInterrupt\u001b[0m                         Traceback (most recent call last)",
      "\u001b[1;32m/s/chopin/a/grad/sam97/3dprinting-error-detection/main.ipynb Cell 9\u001b[0m in \u001b[0;36m<cell line: 1>\u001b[0;34m()\u001b[0m\n\u001b[0;32m----> <a href='vscode-notebook-cell://ssh-remote%2B7b22686f73744e616d65223a2272656d6f74654361726e6170227d/s/chopin/a/grad/sam97/3dprinting-error-detection/main.ipynb#X26sdnNjb2RlLXJlbW90ZQ%3D%3D?line=0'>1</a>\u001b[0m trainX, trainY \u001b[39m=\u001b[39m get_images_and_targets(test_labels, images, image_processor, test\u001b[39m=\u001b[39;49m\u001b[39mTrue\u001b[39;49;00m, lesser\u001b[39m=\u001b[39;49m\u001b[39mFalse\u001b[39;49;00m)\n",
      "\u001b[1;32m/s/chopin/a/grad/sam97/3dprinting-error-detection/main.ipynb Cell 9\u001b[0m in \u001b[0;36mget_images_and_targets\u001b[0;34m(labels_df, images_path, image_processor, test, train_fraction, val, lesser)\u001b[0m\n\u001b[1;32m     <a href='vscode-notebook-cell://ssh-remote%2B7b22686f73744e616d65223a2272656d6f74654361726e6170227d/s/chopin/a/grad/sam97/3dprinting-error-detection/main.ipynb#X26sdnNjb2RlLXJlbW90ZQ%3D%3D?line=46'>47</a>\u001b[0m \u001b[39mfor\u001b[39;00m i \u001b[39min\u001b[39;00m tqdm(\u001b[39mrange\u001b[39m(\u001b[39mlen\u001b[39m(raw_labels))):\n\u001b[1;32m     <a href='vscode-notebook-cell://ssh-remote%2B7b22686f73744e616d65223a2272656d6f74654361726e6170227d/s/chopin/a/grad/sam97/3dprinting-error-detection/main.ipynb#X26sdnNjb2RlLXJlbW90ZQ%3D%3D?line=47'>48</a>\u001b[0m     image \u001b[39m=\u001b[39m Image\u001b[39m.\u001b[39mopen(images_path \u001b[39m+\u001b[39m raw_labels[i][\u001b[39m0\u001b[39m])\n\u001b[0;32m---> <a href='vscode-notebook-cell://ssh-remote%2B7b22686f73744e616d65223a2272656d6f74654361726e6170227d/s/chopin/a/grad/sam97/3dprinting-error-detection/main.ipynb#X26sdnNjb2RlLXJlbW90ZQ%3D%3D?line=48'>49</a>\u001b[0m     image \u001b[39m=\u001b[39m image_processor(image, return_tensors\u001b[39m=\u001b[39;49m\u001b[39m'\u001b[39;49m\u001b[39mpt\u001b[39;49m\u001b[39m'\u001b[39;49m)\n\u001b[1;32m     <a href='vscode-notebook-cell://ssh-remote%2B7b22686f73744e616d65223a2272656d6f74654361726e6170227d/s/chopin/a/grad/sam97/3dprinting-error-detection/main.ipynb#X26sdnNjb2RlLXJlbW90ZQ%3D%3D?line=50'>51</a>\u001b[0m     X\u001b[39m.\u001b[39mappend(image\u001b[39m.\u001b[39mpixel_values)\n\u001b[1;32m     <a href='vscode-notebook-cell://ssh-remote%2B7b22686f73744e616d65223a2272656d6f74654361726e6170227d/s/chopin/a/grad/sam97/3dprinting-error-detection/main.ipynb#X26sdnNjb2RlLXJlbW90ZQ%3D%3D?line=51'>52</a>\u001b[0m     \u001b[39mif\u001b[39;00m test\u001b[39m==\u001b[39m\u001b[39mFalse\u001b[39;00m:\n",
      "File \u001b[0;32m~/.local/lib/python3.9/site-packages/transformers/models/convnext/feature_extraction_convnext.py:154\u001b[0m, in \u001b[0;36mConvNextFeatureExtractor.__call__\u001b[0;34m(self, images, return_tensors, **kwargs)\u001b[0m\n\u001b[1;32m    152\u001b[0m         size \u001b[39m=\u001b[39m \u001b[39mint\u001b[39m(\u001b[39mself\u001b[39m\u001b[39m.\u001b[39msize \u001b[39m/\u001b[39m \u001b[39mself\u001b[39m\u001b[39m.\u001b[39mcrop_pct)\n\u001b[1;32m    153\u001b[0m         \u001b[39m# to maintain same ratio w.r.t. 224 images\u001b[39;00m\n\u001b[0;32m--> 154\u001b[0m         images \u001b[39m=\u001b[39m [\n\u001b[1;32m    155\u001b[0m             \u001b[39mself\u001b[39m\u001b[39m.\u001b[39mresize(image\u001b[39m=\u001b[39mimage, size\u001b[39m=\u001b[39msize, default_to_square\u001b[39m=\u001b[39m\u001b[39mFalse\u001b[39;00m, resample\u001b[39m=\u001b[39m\u001b[39mself\u001b[39m\u001b[39m.\u001b[39mresample)\n\u001b[1;32m    156\u001b[0m             \u001b[39mfor\u001b[39;00m image \u001b[39min\u001b[39;00m images\n\u001b[1;32m    157\u001b[0m         ]\n\u001b[1;32m    158\u001b[0m         images \u001b[39m=\u001b[39m [\u001b[39mself\u001b[39m\u001b[39m.\u001b[39mcenter_crop(image\u001b[39m=\u001b[39mimage, size\u001b[39m=\u001b[39m\u001b[39mself\u001b[39m\u001b[39m.\u001b[39msize) \u001b[39mfor\u001b[39;00m image \u001b[39min\u001b[39;00m images]\n\u001b[1;32m    160\u001b[0m \u001b[39mif\u001b[39;00m \u001b[39mself\u001b[39m\u001b[39m.\u001b[39mdo_normalize:\n",
      "File \u001b[0;32m~/.local/lib/python3.9/site-packages/transformers/models/convnext/feature_extraction_convnext.py:155\u001b[0m, in \u001b[0;36m<listcomp>\u001b[0;34m(.0)\u001b[0m\n\u001b[1;32m    152\u001b[0m         size \u001b[39m=\u001b[39m \u001b[39mint\u001b[39m(\u001b[39mself\u001b[39m\u001b[39m.\u001b[39msize \u001b[39m/\u001b[39m \u001b[39mself\u001b[39m\u001b[39m.\u001b[39mcrop_pct)\n\u001b[1;32m    153\u001b[0m         \u001b[39m# to maintain same ratio w.r.t. 224 images\u001b[39;00m\n\u001b[1;32m    154\u001b[0m         images \u001b[39m=\u001b[39m [\n\u001b[0;32m--> 155\u001b[0m             \u001b[39mself\u001b[39;49m\u001b[39m.\u001b[39;49mresize(image\u001b[39m=\u001b[39;49mimage, size\u001b[39m=\u001b[39;49msize, default_to_square\u001b[39m=\u001b[39;49m\u001b[39mFalse\u001b[39;49;00m, resample\u001b[39m=\u001b[39;49m\u001b[39mself\u001b[39;49m\u001b[39m.\u001b[39;49mresample)\n\u001b[1;32m    156\u001b[0m             \u001b[39mfor\u001b[39;00m image \u001b[39min\u001b[39;00m images\n\u001b[1;32m    157\u001b[0m         ]\n\u001b[1;32m    158\u001b[0m         images \u001b[39m=\u001b[39m [\u001b[39mself\u001b[39m\u001b[39m.\u001b[39mcenter_crop(image\u001b[39m=\u001b[39mimage, size\u001b[39m=\u001b[39m\u001b[39mself\u001b[39m\u001b[39m.\u001b[39msize) \u001b[39mfor\u001b[39;00m image \u001b[39min\u001b[39;00m images]\n\u001b[1;32m    160\u001b[0m \u001b[39mif\u001b[39;00m \u001b[39mself\u001b[39m\u001b[39m.\u001b[39mdo_normalize:\n",
      "File \u001b[0;32m~/.local/lib/python3.9/site-packages/transformers/image_utils.py:302\u001b[0m, in \u001b[0;36mImageFeatureExtractionMixin.resize\u001b[0;34m(self, image, size, resample, default_to_square, max_size)\u001b[0m\n\u001b[1;32m    298\u001b[0m                 new_short, new_long \u001b[39m=\u001b[39m \u001b[39mint\u001b[39m(max_size \u001b[39m*\u001b[39m new_short \u001b[39m/\u001b[39m new_long), max_size\n\u001b[1;32m    300\u001b[0m         size \u001b[39m=\u001b[39m (new_short, new_long) \u001b[39mif\u001b[39;00m width \u001b[39m<\u001b[39m\u001b[39m=\u001b[39m height \u001b[39melse\u001b[39;00m (new_long, new_short)\n\u001b[0;32m--> 302\u001b[0m \u001b[39mreturn\u001b[39;00m image\u001b[39m.\u001b[39;49mresize(size, resample\u001b[39m=\u001b[39;49mresample)\n",
      "File \u001b[0;32m/usr/local/anaconda3/latest/lib/python3.9/site-packages/PIL/Image.py:2082\u001b[0m, in \u001b[0;36mImage.resize\u001b[0;34m(self, size, resample, box, reducing_gap)\u001b[0m\n\u001b[1;32m   2074\u001b[0m             \u001b[39mself\u001b[39m \u001b[39m=\u001b[39m Image\u001b[39m.\u001b[39mreduce(\u001b[39mself\u001b[39m, factor, box\u001b[39m=\u001b[39mreduce_box)\n\u001b[1;32m   2075\u001b[0m         box \u001b[39m=\u001b[39m (\n\u001b[1;32m   2076\u001b[0m             (box[\u001b[39m0\u001b[39m] \u001b[39m-\u001b[39m reduce_box[\u001b[39m0\u001b[39m]) \u001b[39m/\u001b[39m factor_x,\n\u001b[1;32m   2077\u001b[0m             (box[\u001b[39m1\u001b[39m] \u001b[39m-\u001b[39m reduce_box[\u001b[39m1\u001b[39m]) \u001b[39m/\u001b[39m factor_y,\n\u001b[1;32m   2078\u001b[0m             (box[\u001b[39m2\u001b[39m] \u001b[39m-\u001b[39m reduce_box[\u001b[39m0\u001b[39m]) \u001b[39m/\u001b[39m factor_x,\n\u001b[1;32m   2079\u001b[0m             (box[\u001b[39m3\u001b[39m] \u001b[39m-\u001b[39m reduce_box[\u001b[39m1\u001b[39m]) \u001b[39m/\u001b[39m factor_y,\n\u001b[1;32m   2080\u001b[0m         )\n\u001b[0;32m-> 2082\u001b[0m \u001b[39mreturn\u001b[39;00m \u001b[39mself\u001b[39m\u001b[39m.\u001b[39m_new(\u001b[39mself\u001b[39;49m\u001b[39m.\u001b[39;49mim\u001b[39m.\u001b[39;49mresize(size, resample, box))\n",
      "\u001b[0;31mKeyboardInterrupt\u001b[0m: "
     ]
    }
   ],
   "source": [
    "\n",
    "trainX, trainY = get_images_and_targets(test_labels, images, image_processor, test=True, lesser=False)"
   ]
  },
  {
   "cell_type": "code",
   "execution_count": 7,
   "metadata": {},
   "outputs": [
    {
     "data": {
      "text/plain": [
       "((16212, 480, 480, 3), (16212, 1), (array([0, 1]), array([6427, 9785])))"
      ]
     },
     "execution_count": 7,
     "metadata": {},
     "output_type": "execute_result"
    }
   ],
   "source": [
    "trainX.shape, trainY.shape, np.unique(trainY, return_counts=True)"
   ]
  },
  {
   "cell_type": "code",
   "execution_count": 8,
   "metadata": {},
   "outputs": [
    {
     "data": {
      "text/plain": [
       "<matplotlib.image.AxesImage at 0x7f6fed4b5a60>"
      ]
     },
     "execution_count": 8,
     "metadata": {},
     "output_type": "execute_result"
    },
    {
     "data": {
      "image/png": "[encoded data removed]",
      "text/plain": [
       "<Figure size 432x288 with 1 Axes>"
      ]
     },
     "metadata": {
      "needs_background": "light"
     },
     "output_type": "display_data"
    }
   ],
   "source": [
    "import matplotlib.pyplot as plt\n",
    "\n",
    "# for i in range(10):\n",
    "# plt.imshow(trainX[0])\n",
    "# plt.imshow(trainX[1])\n",
    "# plt.imshow(trainX[2])\n",
    "# plt.imshow(trainX[3])\n",
    "plt.imshow(trainX[0])\n"
   ]
  },
  {
   "cell_type": "code",
   "execution_count": 9,
   "metadata": {},
   "outputs": [],
   "source": [
    "# np.save(ROOT_DATA_PATH+'train_images_480_480', trainX)\n",
    "# np.save(ROOT_DATA_PATH+'train_labels', trainY)"
   ]
  },
  {
   "cell_type": "code",
   "execution_count": 10,
   "metadata": {},
   "outputs": [],
   "source": [
    "# trainX = np.load(ROOT_DATA_PATH+'train_images_480_480.npy')\n",
    "# trainY = np.load(ROOT_DATA_PATH+'train_labels.npy')\n",
    "\n",
    "# trainX, trainY"
   ]
  },
  {
   "cell_type": "code",
   "execution_count": 11,
   "metadata": {},
   "outputs": [],
   "source": [
    "import numpy as np\n",
    "import torch\n",
    "        \n",
    "class ConvNet(torch.nn.Module):\n",
    "    \n",
    "    def __init__(self, n_inputs, n_hiddens_per_conv_layer, n_hiddens_per_fc_layer, n_outputs, \n",
    "                 patch_size_per_conv_layer, stride_per_conv_layer, activation_function='tanh', device='cpu'):\n",
    "        \n",
    "        super().__init__()\n",
    "        print(\"here\")\n",
    "        self.device = device\n",
    "\n",
    "        n_conv_layers = len(n_hiddens_per_conv_layer)\n",
    "        if (len(patch_size_per_conv_layer) != n_conv_layers or\n",
    "            len(stride_per_conv_layer) != n_conv_layers):\n",
    "            raise Exception('The lengths of n_hiddens_per_conv_layer, patch_size_per_conv_layer, and stride_per_conv_layer must be equal.')\n",
    "        \n",
    "        self.activation_function = torch.tanh if activation_function == 'tanh' else torch.relu\n",
    "        \n",
    "        # Create all convolutional layers\n",
    "        # First argument to first Conv2d is number of channels for each pixel.\n",
    "        # Just 1 for our grayscale images.\n",
    "        n_in = 3\n",
    "        input_hw = int(np.sqrt(n_inputs))  # original input image height (=width because image assumed square)\n",
    "        self.conv_layers = torch.nn.ModuleList()\n",
    "        for nh, patch_size, stride in zip(n_hiddens_per_conv_layer,\n",
    "                                          patch_size_per_conv_layer,\n",
    "                                          stride_per_conv_layer):\n",
    "            self.conv_layers.append( torch.nn.Conv2d(n_in, nh, kernel_size=patch_size, stride=stride) )\n",
    "            conv_layer_output_hw = (input_hw - patch_size) // stride + 1\n",
    "            input_hw = conv_layer_output_hw  # for next trip through this loop\n",
    "            n_in = nh\n",
    "\n",
    "        # Create all fully connected layers.  First must determine number of inputs to first\n",
    "        # fully-connected layer that results from flattening the images coming out of the last\n",
    "        # convolutional layer.\n",
    "        n_in = input_hw ** 2 * n_in  # n_hiddens_per_fc_layer[0]\n",
    "        self.fc_layers = torch.nn.ModuleList()\n",
    "        for nh in n_hiddens_per_fc_layer:\n",
    "            self.fc_layers.append( torch.nn.Linear(n_in, nh) )\n",
    "            n_in = nh\n",
    "        self.fc_layers.append( torch.nn.Linear(n_in, n_outputs) )\n",
    "        \n",
    "        self.to(self.device)\n",
    "\n",
    "\n",
    "    def forward_all_outputs(self, X):\n",
    "        n_samples = X.shape[0]\n",
    "        Ys = [X]\n",
    "        for conv_layer in self.conv_layers:\n",
    "            Ys.append( self.activation_function(conv_layer(Ys[-1])) )\n",
    "\n",
    "        for layeri, fc_layer in enumerate(self.fc_layers[:-1]):\n",
    "            if layeri == 0:\n",
    "                Ys.append( self.activation_function(fc_layer(Ys[-1].reshape(n_samples, -1))) )\n",
    "            else:\n",
    "                Ys.append( self.activation_function(fc_layer(Ys[-1])) )\n",
    "\n",
    "        Ys.append(self.fc_layers[-1](Ys[-1]))\n",
    "        return Ys\n",
    "\n",
    "\n",
    "    def forward(self, X):\n",
    "        Ys = self.forward_all_outputs(X)\n",
    "        return Ys[-1]\n",
    "    \n",
    "\n",
    "    def train(self, X, T, batch_size, n_epochs, learning_rate, method='sgd', verbose=True):\n",
    "        \n",
    "        # Set data matrices to torch.tensors if not already.\n",
    "        if not isinstance(X, torch.Tensor):\n",
    "            X = torch.from_numpy(X).float().to(self.device)\n",
    "        if not isinstance(T, torch.Tensor):\n",
    "            T = torch.from_numpy(T).long().to(self.device)  # required for classification in pytorch\n",
    "        \n",
    "        X = torch.permute(X, (0, 3, 1, 2))\n",
    "        X.requires_grad_(True)\n",
    "\n",
    "        self.classes = torch.unique(T)\n",
    "        \n",
    "        if method == 'sgd':\n",
    "            optimizer = torch.optim.SGD(self.parameters(), lr=learning_rate, momentum=0.9)\n",
    "        else:\n",
    "            optimizer = torch.optim.Adam(self.parameters(), lr=learning_rate)\n",
    "\n",
    "        CELoss = torch.nn.CrossEntropyLoss(reduction='mean')\n",
    "        self.error_trace = []\n",
    "        \n",
    "        for epoch in range(n_epochs):\n",
    "\n",
    "            num_batches = X.shape[0] // batch_size\n",
    "            loss_sum = 0\n",
    "            \n",
    "            for k in range(num_batches):\n",
    "                start = k * batch_size\n",
    "                end = (k + 1) * batch_size\n",
    "                X_batch = X[start:end, ...]\n",
    "                T_batch = T[start:end, ...]\n",
    "                \n",
    "                Y = self.forward(X_batch)\n",
    "                # print(Y.shape, Y)\n",
    "                # print(T_batch.shape, T_batch)\n",
    "                loss = CELoss(Y, T_batch)\n",
    "                loss.backward()\n",
    "\n",
    "                # Update parameters\n",
    "                optimizer.step()\n",
    "                optimizer.zero_grad()\n",
    "\n",
    "                loss_sum += loss\n",
    "\n",
    "            self.error_trace.append(loss_sum / num_batches)\n",
    "\n",
    "            if verbose and (epoch + 1) % (n_epochs // 10) == 0:\n",
    "                print(f'{method}: Epoch {epoch + 1} Loss {self.error_trace[-1]:.3f}')\n",
    "\n",
    "        return self\n",
    "\n",
    "\n",
    "    def softmax(self, Y):\n",
    "        '''Apply to final layer weighted sum outputs'''\n",
    "        # Trick to avoid overflow\n",
    "        maxY = torch.max(Y, axis=1)[0].reshape((-1,1))\n",
    "        expY = torch.exp(Y - maxY)\n",
    "        denom = torch.sum(expY, axis=1).reshape((-1, 1))\n",
    "        Y = expY / denom\n",
    "        return Y\n",
    "\n",
    "\n",
    "    def use(self, X):\n",
    "        # Set input matrix to torch.tensors if not already.\n",
    "        if not isinstance(X, torch.Tensor):\n",
    "            X = torch.from_numpy(X).float().to(self.device)\n",
    "        \n",
    "        X = torch.permute(X, (0, 3, 1, 2))\n",
    "\n",
    "        Y = self.forward(X)\n",
    "        probs = self.softmax(Y)\n",
    "        classes = self.classes[torch.argmax(probs, axis=1).cpu().numpy()]\n",
    "        return classes.cpu().numpy(), probs.detach().cpu().numpy()\n"
   ]
  },
  {
   "cell_type": "code",
   "execution_count": 17,
   "metadata": {},
   "outputs": [],
   "source": [
    "# device = torch.device('cuda:0' if torch.cuda.is_available() else 'cpu')\n",
    "device = torch.device('cpu')"
   ]
  },
  {
   "cell_type": "code",
   "execution_count": 18,
   "metadata": {},
   "outputs": [],
   "source": [
    "# np.random.seed(42)\n",
    "# r_indexes = np.arange(len(trainX))\n",
    "# np.random.shuffle(r_indexes)\n",
    "\n",
    "# trainX = trainX[r_indexes]\n",
    "# trainY = trainY[r_indexes]"
   ]
  },
  {
   "cell_type": "code",
   "execution_count": 19,
   "metadata": {},
   "outputs": [
    {
     "name": "stdout",
     "output_type": "stream",
     "text": [
      "here\n"
     ]
    },
    {
     "data": {
      "text/plain": [
       "ConvNet(\n",
       "  (conv_layers): ModuleList(\n",
       "    (0): Conv2d(3, 10, kernel_size=(5, 5), stride=(2, 2))\n",
       "    (1): Conv2d(10, 20, kernel_size=(7, 7), stride=(2, 2))\n",
       "  )\n",
       "  (fc_layers): ModuleList(\n",
       "    (0): Linear(in_features=269120, out_features=5, bias=True)\n",
       "    (1): Linear(in_features=5, out_features=2, bias=True)\n",
       "  )\n",
       ")"
      ]
     },
     "execution_count": 19,
     "metadata": {},
     "output_type": "execute_result"
    }
   ],
   "source": [
    "cnnet = ConvNet(480 * 480,\n",
    "                [10, 20], # n_hiddens_per_conv_layer\n",
    "                [5], # n_hiddens_per_fc_layer\n",
    "                2,\n",
    "                patch_size_per_conv_layer=[5, 7], stride_per_conv_layer=[2, 2], device=device)\n",
    "cnnet.to(device)\n"
   ]
  },
  {
   "cell_type": "code",
   "execution_count": 20,
   "metadata": {},
   "outputs": [
    {
     "data": {
      "text/plain": [
       "array([1, 1, 1, ..., 0, 0, 0])"
      ]
     },
     "execution_count": 20,
     "metadata": {},
     "output_type": "execute_result"
    }
   ],
   "source": [
    "trainY.reshape(1,-1)[0]"
   ]
  },
  {
   "cell_type": "code",
   "execution_count": 21,
   "metadata": {},
   "outputs": [
    {
     "name": "stdout",
     "output_type": "stream",
     "text": [
      "adam: Epoch 1 Loss 0.793\n",
      "adam: Epoch 2 Loss 0.687\n",
      "adam: Epoch 3 Loss 0.690\n",
      "adam: Epoch 4 Loss 0.699\n",
      "adam: Epoch 5 Loss 0.704\n",
      "adam: Epoch 6 Loss 0.706\n",
      "adam: Epoch 7 Loss 0.707\n",
      "adam: Epoch 8 Loss 0.707\n",
      "adam: Epoch 9 Loss 0.707\n",
      "adam: Epoch 10 Loss 0.708\n"
     ]
    },
    {
     "data": {
      "text/plain": [
       "ConvNet(\n",
       "  (conv_layers): ModuleList(\n",
       "    (0): Conv2d(3, 10, kernel_size=(5, 5), stride=(2, 2))\n",
       "    (1): Conv2d(10, 20, kernel_size=(7, 7), stride=(2, 2))\n",
       "  )\n",
       "  (fc_layers): ModuleList(\n",
       "    (0): Linear(in_features=269120, out_features=5, bias=True)\n",
       "    (1): Linear(in_features=5, out_features=2, bias=True)\n",
       "  )\n",
       ")"
      ]
     },
     "execution_count": 21,
     "metadata": {},
     "output_type": "execute_result"
    }
   ],
   "source": [
    "\n",
    "\n",
    "n_epochs = 10\n",
    "batch_size = 100\n",
    "learning_rate = 0.001\n",
    "cnnet.train(trainX, trainY.reshape(1,-1)[0], batch_size, n_epochs, learning_rate, method='adam')"
   ]
  },
  {
   "cell_type": "code",
   "execution_count": null,
   "metadata": {},
   "outputs": [],
   "source": [
    "predictedTrainClasses, _ = cnnet.use(trainX)\n",
    "try:\n",
    "    print(classification_report(trainY, predictedTrainClasses, zero_division=0, digits=7))\n",
    "except:\n",
    "    print(classification_report(trainY.reshape(1,-1)[0], predictedTrainClasses, zero_division=0, digits=7))\n",
    "    # trainY.reshape(1,-1)[0]\n",
    "print(\"loading test data\")\n",
    "\n",
    "testX, test_paths = get_images_and_targets(test_labels, images, test=True)\n",
    "\n",
    "predictedYClasses, _ = cnnet.use(testX)\n",
    "\n",
    "results = np.hstack((test_paths, predictedYClasses))\n",
    "results_df = pd.DataFrame(results, columns=['img_path', 'has_under_extrusion'])\n",
    "results_df.to_csv('./results_notebook.csv', index=False)\n",
    "# print(classification_report(trainy, predictedTrain, zero_division=0, digits=7))\n"
   ]
  },
  {
   "cell_type": "code",
   "execution_count": null,
   "metadata": {},
   "outputs": [],
   "source": []
  }
 ],
 "metadata": {
  "kernelspec": {
   "display_name": "Python 3",
   "language": "python",
   "name": "python3"
  },
  "language_info": {
   "codemirror_mode": {
    "name": "ipython",
    "version": 3
   },
   "file_extension": ".py",
   "mimetype": "text/x-python",
   "name": "python",
   "nbconvert_exporter": "python",
   "pygments_lexer": "ipython3",
   "version": "3.9.16"
  }
 },
 "nbformat": 4,
 "nbformat_minor": 2
}
